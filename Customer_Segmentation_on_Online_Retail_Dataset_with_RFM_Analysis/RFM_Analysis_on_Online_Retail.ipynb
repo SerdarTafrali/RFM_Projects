{
 "cells": [
  {
   "cell_type": "markdown",
   "id": "4be529ef-8b29-4921-84ba-ace374b9590f",
   "metadata": {},
   "source": [
    "# Customer Segmentation with RFM Analysis on Online Retail Dataset"
   ]
  },
  {
   "cell_type": "markdown",
   "id": "e0ee11b5-77f4-45f1-9531-a1843a300559",
   "metadata": {
    "tags": []
   },
   "source": [
    "## Description"
   ]
  },
  {
   "cell_type": "markdown",
   "id": "c61b70ca-881b-4c20-879e-9125d958064a",
   "metadata": {},
   "source": [
    "Stages of Project\n",
    "\n",
    "1. Data Reading\n",
    "2. Data Preperation\n",
    "3. Defining RFM Metrics\n",
    "4. Calculating RFM Scores\n",
    "5. Segmentation with RFM Scores\n",
    "6. Examining Outputs"
   ]
  },
  {
   "cell_type": "markdown",
   "id": "9f9e9d97-e861-488c-9ea1-0082552f05d7",
   "metadata": {
    "tags": []
   },
   "source": [
    "**Business Problem:**\n",
    "\n",
    "An e-commerce company wants to segment its customers and determine marketing strategies according to these segments.\n",
    "\n",
    "**Story of dataset:**\n",
    "\n",
    "https://archive.ics.uci.edu/ml/datasets/Online+Retail+II\n",
    "\n",
    "The data set named Online Retail II was obtained from a UK-based online store.\n",
    "Includes sales between 01/12/2009 - 09/12/2011.\n",
    "\n",
    "**Variables:**\n",
    "\n",
    "* InvoiceNo: Invoice number. The unique number of each transaction, namely the invoice. (Aborted operation if it starts with C.)\n",
    "* StockCode: Product code. Unique number for each product.\n",
    "* Description: Product name\n",
    "* Quantity: Number of products. It expresses how many of the products on the invoices have been sold.\n",
    "* InvoiceDate: Invoice date and time.\n",
    "* UnitPrice: Product price (in GBP)\n",
    "* CustomerID: Unique customer number\n",
    "* Country: Country name. Country where the customer lives."
   ]
  },
  {
   "cell_type": "markdown",
   "id": "7e24e4c5-b7ae-4082-90cf-89f7525c6362",
   "metadata": {},
   "source": [
    "## Data Preperation and Understanding"
   ]
  },
  {
   "cell_type": "markdown",
   "id": "bed22f7d-346a-485b-b358-e8bcfb585d32",
   "metadata": {},
   "source": [
    "### Reading Data, Required Libraries, Settings and Functions"
   ]
  },
  {
   "cell_type": "code",
   "execution_count": 5,
   "id": "a875c1bf-95e9-49c1-8210-fd346d336ab6",
   "metadata": {},
   "outputs": [],
   "source": [
    "import pandas as pd\n",
    "import datetime as dt\n",
    "pd.set_option('display.max_columns', None)\n",
    "pd.set_option('display.max_rows', None)\n",
    "pd.set_option('display.float_format', lambda x: '%.2f' % x)\n",
    "pd.set_option('display.width',1000)"
   ]
  },
  {
   "cell_type": "code",
   "execution_count": 8,
   "id": "690ff9ab-1395-40c3-b1c6-044413203dc1",
   "metadata": {},
   "outputs": [],
   "source": [
    "df_ = pd.read_excel(\"./online_retail_II.xlsx\", sheet_name=\"Year 2009-2010\")"
   ]
  },
  {
   "cell_type": "code",
   "execution_count": 9,
   "id": "9ccb2cd7-bba8-4e9e-b30a-3cff49377c8c",
   "metadata": {},
   "outputs": [],
   "source": [
    "df = df_.copy()"
   ]
  },
  {
   "cell_type": "code",
   "execution_count": 10,
   "id": "44bd0f30-b482-40be-9e70-7b14d2fd7403",
   "metadata": {},
   "outputs": [],
   "source": [
    "def check_df(dataframe, head=5):\n",
    "    print(\"Shape: \\n\")\n",
    "    print(dataframe.shape)\n",
    "    print(\"\\n Types: \\n\")\n",
    "    print(dataframe.dtypes)\n",
    "    print(\"\\n Types: \\n\")\n",
    "    print(dataframe.info())\n",
    "    print(\"\\n Head: \\n\")\n",
    "    print(dataframe.head(head))\n",
    "    print(\"\\n Tail: \\n\")\n",
    "    print(dataframe.tail(head))\n",
    "    print(\"\\n MissingValues: \\n\")\n",
    "    print(dataframe.isnull().sum())\n",
    "    print(\"\\n Quantiles: \\n\")\n",
    "    print(dataframe.quantile([0, 0.05, 0.25, 0.50, 0.75, 0.95, 0.99, 1]).T)"
   ]
  },
  {
   "cell_type": "markdown",
   "id": "f5a996fc-b447-480c-9055-be7e3f0eb247",
   "metadata": {},
   "source": [
    "### Exploratory Data Analysis"
   ]
  },
  {
   "cell_type": "code",
   "execution_count": 11,
   "id": "ae83020b-f9d5-45b5-b6e5-690ca6a7ab0a",
   "metadata": {},
   "outputs": [
    {
     "name": "stdout",
     "output_type": "stream",
     "text": [
      "Shape: \n",
      "\n",
      "(525461, 8)\n",
      "\n",
      " Types: \n",
      "\n",
      "Invoice                object\n",
      "StockCode              object\n",
      "Description            object\n",
      "Quantity                int64\n",
      "InvoiceDate    datetime64[ns]\n",
      "Price                 float64\n",
      "Customer ID           float64\n",
      "Country                object\n",
      "dtype: object\n",
      "\n",
      " Types: \n",
      "\n",
      "<class 'pandas.core.frame.DataFrame'>\n",
      "RangeIndex: 525461 entries, 0 to 525460\n",
      "Data columns (total 8 columns):\n",
      " #   Column       Non-Null Count   Dtype         \n",
      "---  ------       --------------   -----         \n",
      " 0   Invoice      525461 non-null  object        \n",
      " 1   StockCode    525461 non-null  object        \n",
      " 2   Description  522533 non-null  object        \n",
      " 3   Quantity     525461 non-null  int64         \n",
      " 4   InvoiceDate  525461 non-null  datetime64[ns]\n",
      " 5   Price        525461 non-null  float64       \n",
      " 6   Customer ID  417534 non-null  float64       \n",
      " 7   Country      525461 non-null  object        \n",
      "dtypes: datetime64[ns](1), float64(2), int64(1), object(4)\n",
      "memory usage: 32.1+ MB\n",
      "None\n",
      "\n",
      " Head: \n",
      "\n",
      "  Invoice StockCode                          Description  Quantity         InvoiceDate  Price  Customer ID         Country\n",
      "0  489434     85048  15CM CHRISTMAS GLASS BALL 20 LIGHTS        12 2009-12-01 07:45:00   6.95     13085.00  United Kingdom\n",
      "1  489434    79323P                   PINK CHERRY LIGHTS        12 2009-12-01 07:45:00   6.75     13085.00  United Kingdom\n",
      "2  489434    79323W                  WHITE CHERRY LIGHTS        12 2009-12-01 07:45:00   6.75     13085.00  United Kingdom\n",
      "3  489434     22041         RECORD FRAME 7\" SINGLE SIZE         48 2009-12-01 07:45:00   2.10     13085.00  United Kingdom\n",
      "4  489434     21232       STRAWBERRY CERAMIC TRINKET BOX        24 2009-12-01 07:45:00   1.25     13085.00  United Kingdom\n",
      "\n",
      " Tail: \n",
      "\n",
      "       Invoice StockCode                         Description  Quantity         InvoiceDate  Price  Customer ID         Country\n",
      "525456  538171     22271                FELTCRAFT DOLL ROSIE         2 2010-12-09 20:01:00   2.95     17530.00  United Kingdom\n",
      "525457  538171     22750        FELTCRAFT PRINCESS LOLA DOLL         1 2010-12-09 20:01:00   3.75     17530.00  United Kingdom\n",
      "525458  538171     22751      FELTCRAFT PRINCESS OLIVIA DOLL         1 2010-12-09 20:01:00   3.75     17530.00  United Kingdom\n",
      "525459  538171     20970  PINK FLORAL FELTCRAFT SHOULDER BAG         2 2010-12-09 20:01:00   3.75     17530.00  United Kingdom\n",
      "525460  538171     21931              JUMBO STORAGE BAG SUKI         2 2010-12-09 20:01:00   1.95     17530.00  United Kingdom\n",
      "\n",
      " MissingValues: \n",
      "\n",
      "Invoice             0\n",
      "StockCode           0\n",
      "Description      2928\n",
      "Quantity            0\n",
      "InvoiceDate         0\n",
      "Price               0\n",
      "Customer ID    107927\n",
      "Country             0\n",
      "dtype: int64\n",
      "\n",
      " Quantiles: \n",
      "\n",
      "                 0.00     0.05     0.25     0.50     0.75     0.95     0.99     1.00\n",
      "Quantity     -9600.00     1.00     1.00     3.00    10.00    30.00   120.00 19152.00\n",
      "Price       -53594.36     0.42     1.25     2.10     4.21    10.17    19.95 25111.09\n",
      "Customer ID  12346.00 12725.00 13983.00 15311.00 16799.00 17913.00 18196.00 18287.00\n"
     ]
    }
   ],
   "source": [
    "check_df(df)"
   ]
  },
  {
   "cell_type": "markdown",
   "id": "78500677-2053-45f3-987a-435982ecd28d",
   "metadata": {},
   "source": [
    "## Calculating RFM Scores and Creating RFM Metrics and Segments "
   ]
  },
  {
   "cell_type": "code",
   "execution_count": 12,
   "id": "5294a254-4922-4820-9130-9d9779770461",
   "metadata": {},
   "outputs": [],
   "source": [
    "def create_rfm(dataframe, csv=False):\n",
    "\n",
    "    # VERIYI HAZIRLAMA\n",
    "    dataframe[\"TotalPrice\"] = dataframe[\"Quantity\"] * dataframe[\"Price\"]\n",
    "    dataframe.dropna(inplace=True)\n",
    "    dataframe = dataframe[~dataframe[\"Invoice\"].str.contains(\"C\", na=False)]\n",
    "\n",
    "    # RFM METRIKLERININ HESAPLANMASI\n",
    "    today_date = dt.datetime(2011, 12, 11)\n",
    "    rfm = dataframe.groupby('Customer ID').agg({'InvoiceDate': lambda date: (today_date - date.max()).days,\n",
    "                                                'Invoice': lambda num: num.nunique(),\n",
    "                                                \"TotalPrice\": lambda price: price.sum()})\n",
    "    rfm.columns = ['recency', 'frequency', \"monetary\"]\n",
    "    rfm = rfm[(rfm['monetary'] > 0)]\n",
    "\n",
    "    # RFM SKORLARININ HESAPLANMASI\n",
    "    rfm[\"recency_score\"] = pd.qcut(rfm['recency'], 5, labels=[5, 4, 3, 2, 1])\n",
    "    rfm[\"frequency_score\"] = pd.qcut(rfm[\"frequency\"].rank(method=\"first\"), 5, labels=[1, 2, 3, 4, 5])\n",
    "    rfm[\"monetary_score\"] = pd.qcut(rfm['monetary'], 5, labels=[1, 2, 3, 4, 5])\n",
    "\n",
    "    # cltv_df skorları kategorik değere dönüştürülüp df'e eklendi\n",
    "    rfm[\"RFM_SCORE\"] = (rfm['recency_score'].astype(str) +\n",
    "                        rfm['frequency_score'].astype(str))\n",
    "\n",
    "\n",
    "    # SEGMENTLERIN ISIMLENDIRILMESI\n",
    "    seg_map = {\n",
    "        r'[1-2][1-2]': 'hibernating',\n",
    "        r'[1-2][3-4]': 'at_risk',\n",
    "        r'[1-2]5': 'cant_loose',\n",
    "        r'3[1-2]': 'about_to_sleep',\n",
    "        r'33': 'need_attention',\n",
    "        r'[3-4][4-5]': 'loyal_customers',\n",
    "        r'41': 'promising',\n",
    "        r'51': 'new_customers',\n",
    "        r'[4-5][2-3]': 'potential_loyalists',\n",
    "        r'5[4-5]': 'champions'\n",
    "    }\n",
    "\n",
    "    rfm['segment'] = rfm['RFM_SCORE'].replace(seg_map, regex=True)\n",
    "    rfm = rfm[[\"recency\", \"frequency\", \"monetary\", \"segment\"]]\n",
    "    rfm.index = rfm.index.astype(int)\n",
    "\n",
    "    if csv:\n",
    "        rfm.to_csv(\"rfm.csv\")\n",
    "\n",
    "    return rfm"
   ]
  },
  {
   "cell_type": "code",
   "execution_count": 15,
   "id": "4117e222-b09d-4e2d-a7f6-197a0f288bcf",
   "metadata": {},
   "outputs": [],
   "source": [
    "rfm_df = create_rfm(df, csv=True)"
   ]
  },
  {
   "cell_type": "markdown",
   "id": "302a50ab-92cb-4128-8685-a9a72d7c7505",
   "metadata": {},
   "source": [
    "## RFM Analysis"
   ]
  },
  {
   "cell_type": "markdown",
   "id": "8833b27f-2618-40c5-84a0-23ae0b067021",
   "metadata": {},
   "source": [
    "Examination of the recency, frequency and monetary averages of the segments:"
   ]
  },
  {
   "cell_type": "code",
   "execution_count": 16,
   "id": "6cb77692-b60f-413a-a09f-a723b0230fbf",
   "metadata": {},
   "outputs": [
    {
     "data": {
      "text/html": [
       "<div>\n",
       "<style scoped>\n",
       "    .dataframe tbody tr th:only-of-type {\n",
       "        vertical-align: middle;\n",
       "    }\n",
       "\n",
       "    .dataframe tbody tr th {\n",
       "        vertical-align: top;\n",
       "    }\n",
       "\n",
       "    .dataframe thead tr th {\n",
       "        text-align: left;\n",
       "    }\n",
       "\n",
       "    .dataframe thead tr:last-of-type th {\n",
       "        text-align: right;\n",
       "    }\n",
       "</style>\n",
       "<table border=\"1\" class=\"dataframe\">\n",
       "  <thead>\n",
       "    <tr>\n",
       "      <th></th>\n",
       "      <th colspan=\"2\" halign=\"left\">recency</th>\n",
       "      <th colspan=\"2\" halign=\"left\">frequency</th>\n",
       "      <th colspan=\"2\" halign=\"left\">monetary</th>\n",
       "    </tr>\n",
       "    <tr>\n",
       "      <th></th>\n",
       "      <th>mean</th>\n",
       "      <th>count</th>\n",
       "      <th>mean</th>\n",
       "      <th>count</th>\n",
       "      <th>mean</th>\n",
       "      <th>count</th>\n",
       "    </tr>\n",
       "    <tr>\n",
       "      <th>segment</th>\n",
       "      <th></th>\n",
       "      <th></th>\n",
       "      <th></th>\n",
       "      <th></th>\n",
       "      <th></th>\n",
       "      <th></th>\n",
       "    </tr>\n",
       "  </thead>\n",
       "  <tbody>\n",
       "    <tr>\n",
       "      <th>about_to_sleep</th>\n",
       "      <td>418.82</td>\n",
       "      <td>343</td>\n",
       "      <td>1.20</td>\n",
       "      <td>343</td>\n",
       "      <td>441.32</td>\n",
       "      <td>343</td>\n",
       "    </tr>\n",
       "    <tr>\n",
       "      <th>at_risk</th>\n",
       "      <td>517.16</td>\n",
       "      <td>611</td>\n",
       "      <td>3.07</td>\n",
       "      <td>611</td>\n",
       "      <td>1188.88</td>\n",
       "      <td>611</td>\n",
       "    </tr>\n",
       "    <tr>\n",
       "      <th>cant_loose</th>\n",
       "      <td>489.12</td>\n",
       "      <td>77</td>\n",
       "      <td>9.12</td>\n",
       "      <td>77</td>\n",
       "      <td>4099.45</td>\n",
       "      <td>77</td>\n",
       "    </tr>\n",
       "    <tr>\n",
       "      <th>champions</th>\n",
       "      <td>372.12</td>\n",
       "      <td>663</td>\n",
       "      <td>12.55</td>\n",
       "      <td>663</td>\n",
       "      <td>6852.26</td>\n",
       "      <td>663</td>\n",
       "    </tr>\n",
       "    <tr>\n",
       "      <th>hibernating</th>\n",
       "      <td>578.89</td>\n",
       "      <td>1015</td>\n",
       "      <td>1.13</td>\n",
       "      <td>1015</td>\n",
       "      <td>403.98</td>\n",
       "      <td>1015</td>\n",
       "    </tr>\n",
       "    <tr>\n",
       "      <th>loyal_customers</th>\n",
       "      <td>401.29</td>\n",
       "      <td>742</td>\n",
       "      <td>6.83</td>\n",
       "      <td>742</td>\n",
       "      <td>2746.07</td>\n",
       "      <td>742</td>\n",
       "    </tr>\n",
       "    <tr>\n",
       "      <th>need_attention</th>\n",
       "      <td>418.27</td>\n",
       "      <td>207</td>\n",
       "      <td>2.45</td>\n",
       "      <td>207</td>\n",
       "      <td>1060.36</td>\n",
       "      <td>207</td>\n",
       "    </tr>\n",
       "    <tr>\n",
       "      <th>new_customers</th>\n",
       "      <td>373.58</td>\n",
       "      <td>50</td>\n",
       "      <td>1.00</td>\n",
       "      <td>50</td>\n",
       "      <td>386.20</td>\n",
       "      <td>50</td>\n",
       "    </tr>\n",
       "    <tr>\n",
       "      <th>potential_loyalists</th>\n",
       "      <td>383.79</td>\n",
       "      <td>517</td>\n",
       "      <td>2.02</td>\n",
       "      <td>517</td>\n",
       "      <td>729.51</td>\n",
       "      <td>517</td>\n",
       "    </tr>\n",
       "    <tr>\n",
       "      <th>promising</th>\n",
       "      <td>390.75</td>\n",
       "      <td>87</td>\n",
       "      <td>1.00</td>\n",
       "      <td>87</td>\n",
       "      <td>367.09</td>\n",
       "      <td>87</td>\n",
       "    </tr>\n",
       "  </tbody>\n",
       "</table>\n",
       "</div>"
      ],
      "text/plain": [
       "                    recency       frequency       monetary      \n",
       "                       mean count      mean count     mean count\n",
       "segment                                                         \n",
       "about_to_sleep       418.82   343      1.20   343   441.32   343\n",
       "at_risk              517.16   611      3.07   611  1188.88   611\n",
       "cant_loose           489.12    77      9.12    77  4099.45    77\n",
       "champions            372.12   663     12.55   663  6852.26   663\n",
       "hibernating          578.89  1015      1.13  1015   403.98  1015\n",
       "loyal_customers      401.29   742      6.83   742  2746.07   742\n",
       "need_attention       418.27   207      2.45   207  1060.36   207\n",
       "new_customers        373.58    50      1.00    50   386.20    50\n",
       "potential_loyalists  383.79   517      2.02   517   729.51   517\n",
       "promising            390.75    87      1.00    87   367.09    87"
      ]
     },
     "execution_count": 16,
     "metadata": {},
     "output_type": "execute_result"
    }
   ],
   "source": [
    "rfm_df[[\"segment\", \"recency\", \"frequency\", \"monetary\"]].groupby(\"segment\").agg([\"mean\", \"count\"])"
   ]
  }
 ],
 "metadata": {
  "kernelspec": {
   "display_name": "Python 3 (ipykernel)",
   "language": "python",
   "name": "python3"
  },
  "language_info": {
   "codemirror_mode": {
    "name": "ipython",
    "version": 3
   },
   "file_extension": ".py",
   "mimetype": "text/x-python",
   "name": "python",
   "nbconvert_exporter": "python",
   "pygments_lexer": "ipython3",
   "version": "3.9.7"
  }
 },
 "nbformat": 4,
 "nbformat_minor": 5
}
